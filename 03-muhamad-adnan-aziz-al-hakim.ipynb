{
 "cells": [
  {
   "cell_type": "markdown",
   "id": "56ed5011",
   "metadata": {
    "papermill": {
     "duration": 0.00845,
     "end_time": "2022-10-02T14:56:40.447300",
     "exception": false,
     "start_time": "2022-10-02T14:56:40.438850",
     "status": "completed"
    },
    "tags": []
   },
   "source": [
    "# 03_Muhamad Adnan Aziz Al Hakim"
   ]
  },
  {
   "cell_type": "markdown",
   "id": "602c609d",
   "metadata": {
    "papermill": {
     "duration": 0.006951,
     "end_time": "2022-10-02T14:56:40.461652",
     "exception": false,
     "start_time": "2022-10-02T14:56:40.454701",
     "status": "completed"
    },
    "tags": []
   },
   "source": [
    "# The Instruction\n",
    "Create Customer 360 degree view dataset minimum 20 attributes. 1 Kaggle notebook, max 6 pages of A4 when printed in normal size (not zoomed out);"
   ]
  },
  {
   "cell_type": "markdown",
   "id": "40c4c4fd",
   "metadata": {
    "papermill": {
     "duration": 0.006818,
     "end_time": "2022-10-02T14:56:40.475681",
     "exception": false,
     "start_time": "2022-10-02T14:56:40.468863",
     "status": "completed"
    },
    "tags": []
   },
   "source": [
    "# The Answer:"
   ]
  },
  {
   "cell_type": "code",
   "execution_count": 1,
   "id": "35ada653",
   "metadata": {
    "_cell_guid": "b1076dfc-b9ad-4769-8c92-a6c4dae69d19",
    "_uuid": "8f2839f25d086af736a60e9eeb907d3b93b6e0e5",
    "execution": {
     "iopub.execute_input": "2022-10-02T14:56:40.492380Z",
     "iopub.status.busy": "2022-10-02T14:56:40.491695Z",
     "iopub.status.idle": "2022-10-02T14:56:40.510232Z",
     "shell.execute_reply": "2022-10-02T14:56:40.509003Z"
    },
    "papermill": {
     "duration": 0.030216,
     "end_time": "2022-10-02T14:56:40.513112",
     "exception": false,
     "start_time": "2022-10-02T14:56:40.482896",
     "status": "completed"
    },
    "tags": []
   },
   "outputs": [
    {
     "name": "stdout",
     "output_type": "stream",
     "text": [
      "/kaggle/input/brazilian-ecommerce/olist_customers_dataset.csv\n",
      "/kaggle/input/brazilian-ecommerce/olist_sellers_dataset.csv\n",
      "/kaggle/input/brazilian-ecommerce/olist_order_reviews_dataset.csv\n",
      "/kaggle/input/brazilian-ecommerce/olist_order_items_dataset.csv\n",
      "/kaggle/input/brazilian-ecommerce/olist_products_dataset.csv\n",
      "/kaggle/input/brazilian-ecommerce/olist_geolocation_dataset.csv\n",
      "/kaggle/input/brazilian-ecommerce/product_category_name_translation.csv\n",
      "/kaggle/input/brazilian-ecommerce/olist_orders_dataset.csv\n",
      "/kaggle/input/brazilian-ecommerce/olist_order_payments_dataset.csv\n"
     ]
    }
   ],
   "source": [
    "# This Python 3 environment comes with many helpful analytics libraries installed\n",
    "# It is defined by the kaggle/python Docker image: https://github.com/kaggle/docker-python\n",
    "# For example, here's several helpful packages to load\n",
    "\n",
    "import numpy as np # linear algebra\n",
    "import pandas as pd # data processing, CSV file I/O (e.g. pd.read_csv)\n",
    "import matplotlib.pyplot as plt\n",
    "\n",
    "# Input data files are available in the read-only \"../input/\" directory\n",
    "# For example, running this (by clicking run or pressing Shift+Enter) will list all files under the input directory\n",
    "\n",
    "import os\n",
    "for dirname, _, filenames in os.walk('/kaggle/input'):\n",
    "    for filename in filenames:\n",
    "        print(os.path.join(dirname, filename))\n",
    "\n",
    "# You can write up to 20GB to the current directory (/kaggle/working/) that gets preserved as output when you create a version using \"Save & Run All\" \n",
    "# You can also write temporary files to /kaggle/temp/, but they won't be saved outside of the current session"
   ]
  },
  {
   "cell_type": "markdown",
   "id": "e1c0182f",
   "metadata": {
    "papermill": {
     "duration": 0.00715,
     "end_time": "2022-10-02T14:56:40.527905",
     "exception": false,
     "start_time": "2022-10-02T14:56:40.520755",
     "status": "completed"
    },
    "tags": []
   },
   "source": [
    "# Read Table"
   ]
  },
  {
   "cell_type": "code",
   "execution_count": 2,
   "id": "9d5332f5",
   "metadata": {
    "execution": {
     "iopub.execute_input": "2022-10-02T14:56:40.544858Z",
     "iopub.status.busy": "2022-10-02T14:56:40.544437Z",
     "iopub.status.idle": "2022-10-02T14:56:44.634782Z",
     "shell.execute_reply": "2022-10-02T14:56:44.633894Z"
    },
    "papermill": {
     "duration": 4.102014,
     "end_time": "2022-10-02T14:56:44.637345",
     "exception": false,
     "start_time": "2022-10-02T14:56:40.535331",
     "status": "completed"
    },
    "tags": []
   },
   "outputs": [],
   "source": [
    "customer = pd.read_csv('../input/brazilian-ecommerce/olist_customers_dataset.csv')\n",
    "orders_detail = pd.read_csv('../input/brazilian-ecommerce/olist_order_items_dataset.csv')\n",
    "payments = pd.read_csv('../input/brazilian-ecommerce/olist_order_payments_dataset.csv')\n",
    "reviews = pd.read_csv('../input/brazilian-ecommerce/olist_order_reviews_dataset.csv')\n",
    "orders = pd.read_csv('../input/brazilian-ecommerce/olist_orders_dataset.csv')\n",
    "geolocation = pd.read_csv('../input/brazilian-ecommerce/olist_geolocation_dataset.csv')\n",
    "products_detail = pd.read_csv('../input/brazilian-ecommerce/olist_products_dataset.csv')\n",
    "sellers = pd.read_csv('../input/brazilian-ecommerce/olist_sellers_dataset.csv')"
   ]
  },
  {
   "cell_type": "markdown",
   "id": "3cce225b",
   "metadata": {
    "papermill": {
     "duration": 0.007159,
     "end_time": "2022-10-02T14:56:44.653493",
     "exception": false,
     "start_time": "2022-10-02T14:56:44.646334",
     "status": "completed"
    },
    "tags": []
   },
   "source": [
    "# Reshape Tabels"
   ]
  },
  {
   "cell_type": "code",
   "execution_count": 3,
   "id": "84e423d0",
   "metadata": {
    "execution": {
     "iopub.execute_input": "2022-10-02T14:56:44.670845Z",
     "iopub.status.busy": "2022-10-02T14:56:44.670414Z",
     "iopub.status.idle": "2022-10-02T14:56:45.597343Z",
     "shell.execute_reply": "2022-10-02T14:56:45.596368Z"
    },
    "papermill": {
     "duration": 0.939177,
     "end_time": "2022-10-02T14:56:45.600030",
     "exception": false,
     "start_time": "2022-10-02T14:56:44.660853",
     "status": "completed"
    },
    "tags": []
   },
   "outputs": [],
   "source": [
    "customer_reshape = customer.loc[:, customer.columns != 'customer_zip_code_prefix']\n",
    "products_detail_reshape = products_detail.loc[:, ['product_id', 'product_category_name', 'product_weight_g']]\n",
    "\n",
    "sellers_reshape = sellers.loc[:, sellers.columns != 'seller_zip_code_prefix']\n",
    "\n",
    "rreviews = reviews.loc[:, ['review_id', 'order_id', 'review_score', 'review_creation_date', 'review_answer_timestamp']]\n",
    "reviews_sort = rreviews.sort_values(['review_creation_date', 'review_answer_timestamp'])\n",
    "reviews_reshape = reviews_sort.drop_duplicates(['order_id'], keep = 'last')\n",
    "\n",
    "orders_detail_sort = orders_detail.sort_values('order_id')\n",
    "orders_detail_group = orders_detail_sort.groupby(['order_id', 'seller_id', 'product_id', 'price', 'freight_value'], as_index = False).agg({'order_item_id':'count'})\n",
    "orders_detail_group.rename(columns ={'order_item_id':'qty'}, inplace = True)\n",
    "\n",
    "payments_group = payments.groupby(['order_id', 'payment_type', 'payment_installments'], as_index = False).agg({'payment_sequential':'count', 'payment_value':'sum'})\n",
    "payments_group.rename(columns = {'payment_sequential':'frequency'}, inplace = True)"
   ]
  },
  {
   "cell_type": "markdown",
   "id": "0aa8aaef",
   "metadata": {
    "papermill": {
     "duration": 0.007091,
     "end_time": "2022-10-02T14:56:45.614573",
     "exception": false,
     "start_time": "2022-10-02T14:56:45.607482",
     "status": "completed"
    },
    "tags": []
   },
   "source": [
    "# Table Merges"
   ]
  },
  {
   "cell_type": "code",
   "execution_count": 4,
   "id": "fc0cc1d8",
   "metadata": {
    "execution": {
     "iopub.execute_input": "2022-10-02T14:56:45.632446Z",
     "iopub.status.busy": "2022-10-02T14:56:45.632034Z",
     "iopub.status.idle": "2022-10-02T14:56:46.999873Z",
     "shell.execute_reply": "2022-10-02T14:56:46.998810Z"
    },
    "papermill": {
     "duration": 1.380993,
     "end_time": "2022-10-02T14:56:47.002815",
     "exception": false,
     "start_time": "2022-10-02T14:56:45.621822",
     "status": "completed"
    },
    "tags": []
   },
   "outputs": [],
   "source": [
    "# Orders Detail Merges - Sucessfuly merge without added row\n",
    "orders_detail_merge = orders_detail_group.merge(products_detail_reshape, on = 'product_id', how = 'left') \\\n",
    "                    .merge(sellers_reshape, on = 'seller_id', how = 'left')\n",
    "\n",
    "# Order Merges - Sucessfully merge with added 2396, row order_id can contain > 1 payment methods\n",
    "orders_merge = orders.merge(payments_group, on = 'order_id', how = 'left') \\\n",
    "                .merge(reviews_reshape, on = 'order_id', how = 'left')\n",
    "\n",
    "# Order Merges Set - Sucessfully merge with added 3860 rows, order_id can contain > 1 payment method, > 1 product_id, or both\n",
    "orders_merge_set = orders_merge.merge(orders_detail_merge, on = 'order_id', how = 'left')\n",
    "\n",
    "# Customer Set - Sucessfully merge with added 2396 rows, customer_id can contain > 1 payment method, > 1 product_id, or both\n",
    "customer_set = customer.merge(orders_merge_set, on = 'customer_id', how = 'left')"
   ]
  },
  {
   "cell_type": "markdown",
   "id": "86566357",
   "metadata": {
    "papermill": {
     "duration": 0.007241,
     "end_time": "2022-10-02T14:56:47.017744",
     "exception": false,
     "start_time": "2022-10-02T14:56:47.010503",
     "status": "completed"
    },
    "tags": []
   },
   "source": [
    "# **Imputation**"
   ]
  },
  {
   "cell_type": "markdown",
   "id": "7cecf778",
   "metadata": {
    "execution": {
     "iopub.execute_input": "2022-10-01T05:49:15.870018Z",
     "iopub.status.busy": "2022-10-01T05:49:15.869560Z",
     "iopub.status.idle": "2022-10-01T05:49:15.874554Z",
     "shell.execute_reply": "2022-10-01T05:49:15.873710Z",
     "shell.execute_reply.started": "2022-10-01T05:49:15.869969Z"
    },
    "papermill": {
     "duration": 0.00691,
     "end_time": "2022-10-02T14:56:47.031977",
     "exception": false,
     "start_time": "2022-10-02T14:56:47.025067",
     "status": "completed"
    },
    "tags": []
   },
   "source": [
    "## **Categorical Data**\n",
    "*To filling missing value in categorical columns, I decide to use mode because the mode represents the value that occurs most often in a dataset* "
   ]
  },
  {
   "cell_type": "code",
   "execution_count": 5,
   "id": "82893dc8",
   "metadata": {
    "execution": {
     "iopub.execute_input": "2022-10-02T14:56:47.048363Z",
     "iopub.status.busy": "2022-10-02T14:56:47.047973Z",
     "iopub.status.idle": "2022-10-02T14:56:47.212918Z",
     "shell.execute_reply": "2022-10-02T14:56:47.211875Z"
    },
    "papermill": {
     "duration": 0.17704,
     "end_time": "2022-10-02T14:56:47.216261",
     "exception": false,
     "start_time": "2022-10-02T14:56:47.039221",
     "status": "completed"
    },
    "tags": []
   },
   "outputs": [
    {
     "data": {
      "text/plain": [
       "customer_id                         0\n",
       "customer_unique_id                  0\n",
       "customer_zip_code_prefix            0\n",
       "customer_city                       0\n",
       "customer_state                      0\n",
       "order_id                            0\n",
       "order_status                        0\n",
       "order_purchase_timestamp            0\n",
       "order_approved_at                 162\n",
       "order_delivered_carrier_date     1851\n",
       "order_delivered_customer_date    3073\n",
       "order_estimated_delivery_date       0\n",
       "payment_type                        1\n",
       "payment_installments                1\n",
       "frequency                           1\n",
       "payment_value                       1\n",
       "review_id                         839\n",
       "review_score                      839\n",
       "review_creation_date              839\n",
       "review_answer_timestamp           839\n",
       "seller_id                         797\n",
       "product_id                        797\n",
       "price                             797\n",
       "freight_value                     797\n",
       "qty                               797\n",
       "product_category_name            2299\n",
       "product_weight_g                  814\n",
       "seller_city                       797\n",
       "seller_state                      797\n",
       "dtype: int64"
      ]
     },
     "execution_count": 5,
     "metadata": {},
     "output_type": "execute_result"
    }
   ],
   "source": [
    "customer_set.isna().sum()"
   ]
  },
  {
   "cell_type": "markdown",
   "id": "52ae030b",
   "metadata": {
    "papermill": {
     "duration": 0.007381,
     "end_time": "2022-10-02T14:56:47.231110",
     "exception": false,
     "start_time": "2022-10-02T14:56:47.223729",
     "status": "completed"
    },
    "tags": []
   },
   "source": [
    "*As you can see on above, these categorical columns have missing value, like columns: payment_type, payment_installments, review_score, product_category_name, seller_city, and seller_state. So I begin to filling it on below:*"
   ]
  },
  {
   "cell_type": "code",
   "execution_count": 6,
   "id": "6e486fa1",
   "metadata": {
    "execution": {
     "iopub.execute_input": "2022-10-02T14:56:47.247520Z",
     "iopub.status.busy": "2022-10-02T14:56:47.247130Z",
     "iopub.status.idle": "2022-10-02T14:56:47.564730Z",
     "shell.execute_reply": "2022-10-02T14:56:47.563598Z"
    },
    "papermill": {
     "duration": 0.329125,
     "end_time": "2022-10-02T14:56:47.567422",
     "exception": false,
     "start_time": "2022-10-02T14:56:47.238297",
     "status": "completed"
    },
    "tags": []
   },
   "outputs": [],
   "source": [
    "#payment_type column\n",
    "customer_set.agg({'payment_type':'mode'})\n",
    "customer_set['payment_type'].fillna('credit_card', inplace = True)\n",
    "\n",
    "#payment_installments column\n",
    "customer_set[orders_merge_set['payment_installments'].isnull()]\n",
    "customer_set[orders_merge_set[['payment_type', 'payment_installments']]['payment_type'] == 'credit_card'].loc[:, ['payment_type', 'payment_installments']].mode()\n",
    "customer_set['payment_installments'].fillna('1', inplace = True)\n",
    "\n",
    "#product_category_name column\n",
    "customer_set.agg({'product_category_name':'mode'})\n",
    "customer_set['product_category_name'].fillna('cama_mesa_banho', inplace = True)\n",
    "\n",
    "#seller_city column\n",
    "customer_set.agg({'seller_city':'mode'})\n",
    "customer_set['seller_city'].fillna('sao paulo', inplace = True)\n",
    "\n",
    "#seller_state column\n",
    "customer_set.agg({'seller_state':'mode'})\n",
    "customer_set['seller_state'].fillna('SP', inplace = True)\n",
    "\n",
    "#review_score column\n",
    "customer_set.agg({'review_score':'mode'})\n",
    "customer_set['review_score'].fillna(5, inplace = True)"
   ]
  },
  {
   "cell_type": "markdown",
   "id": "6bbe0cd4",
   "metadata": {
    "papermill": {
     "duration": 0.007449,
     "end_time": "2022-10-02T14:56:47.582416",
     "exception": false,
     "start_time": "2022-10-02T14:56:47.574967",
     "status": "completed"
    },
    "tags": []
   },
   "source": [
    "## **Numerical Data**\n",
    "*To filling missing value in numerical columns, I decide to use modian because the median is less affected by outliers and skewed data* "
   ]
  },
  {
   "cell_type": "code",
   "execution_count": 7,
   "id": "1e09d075",
   "metadata": {
    "execution": {
     "iopub.execute_input": "2022-10-02T14:56:47.599172Z",
     "iopub.status.busy": "2022-10-02T14:56:47.598758Z",
     "iopub.status.idle": "2022-10-02T14:56:47.769792Z",
     "shell.execute_reply": "2022-10-02T14:56:47.768350Z"
    },
    "papermill": {
     "duration": 0.182533,
     "end_time": "2022-10-02T14:56:47.772366",
     "exception": false,
     "start_time": "2022-10-02T14:56:47.589833",
     "status": "completed"
    },
    "tags": []
   },
   "outputs": [
    {
     "name": "stdout",
     "output_type": "stream",
     "text": [
      "<class 'pandas.core.frame.DataFrame'>\n",
      "Int64Index: 105697 entries, 0 to 105696\n",
      "Data columns (total 29 columns):\n",
      " #   Column                         Non-Null Count   Dtype  \n",
      "---  ------                         --------------   -----  \n",
      " 0   customer_id                    105697 non-null  object \n",
      " 1   customer_unique_id             105697 non-null  object \n",
      " 2   customer_zip_code_prefix       105697 non-null  int64  \n",
      " 3   customer_city                  105697 non-null  object \n",
      " 4   customer_state                 105697 non-null  object \n",
      " 5   order_id                       105697 non-null  object \n",
      " 6   order_status                   105697 non-null  object \n",
      " 7   order_purchase_timestamp       105697 non-null  object \n",
      " 8   order_approved_at              105535 non-null  object \n",
      " 9   order_delivered_carrier_date   103846 non-null  object \n",
      " 10  order_delivered_customer_date  102624 non-null  object \n",
      " 11  order_estimated_delivery_date  105697 non-null  object \n",
      " 12  payment_type                   105697 non-null  object \n",
      " 13  payment_installments           105697 non-null  object \n",
      " 14  frequency                      105696 non-null  float64\n",
      " 15  payment_value                  105696 non-null  float64\n",
      " 16  review_id                      104858 non-null  object \n",
      " 17  review_score                   105697 non-null  float64\n",
      " 18  review_creation_date           104858 non-null  object \n",
      " 19  review_answer_timestamp        104858 non-null  object \n",
      " 20  seller_id                      104900 non-null  object \n",
      " 21  product_id                     104900 non-null  object \n",
      " 22  price                          104900 non-null  float64\n",
      " 23  freight_value                  104900 non-null  float64\n",
      " 24  qty                            104900 non-null  float64\n",
      " 25  product_category_name          105697 non-null  object \n",
      " 26  product_weight_g               104883 non-null  float64\n",
      " 27  seller_city                    105697 non-null  object \n",
      " 28  seller_state                   105697 non-null  object \n",
      "dtypes: float64(7), int64(1), object(21)\n",
      "memory usage: 24.2+ MB\n"
     ]
    }
   ],
   "source": [
    "customer_set.info()"
   ]
  },
  {
   "cell_type": "markdown",
   "id": "ad8b9510",
   "metadata": {
    "papermill": {
     "duration": 0.00767,
     "end_time": "2022-10-02T14:56:47.787820",
     "exception": false,
     "start_time": "2022-10-02T14:56:47.780150",
     "status": "completed"
    },
    "tags": []
   },
   "source": [
    "As you can see on above, order_approved_at, order_delivered_carrier_date, and order_delivered_customer_date columns is object. I will treat as numerical columns before that I have to convert to datetimes."
   ]
  },
  {
   "cell_type": "code",
   "execution_count": 8,
   "id": "9d20adb3",
   "metadata": {
    "execution": {
     "iopub.execute_input": "2022-10-02T14:56:47.805907Z",
     "iopub.status.busy": "2022-10-02T14:56:47.805253Z",
     "iopub.status.idle": "2022-10-02T14:56:48.229719Z",
     "shell.execute_reply": "2022-10-02T14:56:48.228414Z"
    },
    "papermill": {
     "duration": 0.436678,
     "end_time": "2022-10-02T14:56:48.232670",
     "exception": false,
     "start_time": "2022-10-02T14:56:47.795992",
     "status": "completed"
    },
    "tags": []
   },
   "outputs": [
    {
     "name": "stdout",
     "output_type": "stream",
     "text": [
      "<class 'pandas.core.frame.DataFrame'>\n",
      "Int64Index: 105697 entries, 0 to 105696\n",
      "Data columns (total 29 columns):\n",
      " #   Column                         Non-Null Count   Dtype         \n",
      "---  ------                         --------------   -----         \n",
      " 0   customer_id                    105697 non-null  object        \n",
      " 1   customer_unique_id             105697 non-null  object        \n",
      " 2   customer_zip_code_prefix       105697 non-null  int64         \n",
      " 3   customer_city                  105697 non-null  object        \n",
      " 4   customer_state                 105697 non-null  object        \n",
      " 5   order_id                       105697 non-null  object        \n",
      " 6   order_status                   105697 non-null  object        \n",
      " 7   order_purchase_timestamp       105697 non-null  object        \n",
      " 8   order_approved_at              105535 non-null  datetime64[ns]\n",
      " 9   order_delivered_carrier_date   103846 non-null  datetime64[ns]\n",
      " 10  order_delivered_customer_date  102624 non-null  datetime64[ns]\n",
      " 11  order_estimated_delivery_date  105697 non-null  object        \n",
      " 12  payment_type                   105697 non-null  object        \n",
      " 13  payment_installments           105697 non-null  object        \n",
      " 14  frequency                      105696 non-null  float64       \n",
      " 15  payment_value                  105696 non-null  float64       \n",
      " 16  review_id                      104858 non-null  object        \n",
      " 17  review_score                   105697 non-null  float64       \n",
      " 18  review_creation_date           104858 non-null  datetime64[ns]\n",
      " 19  review_answer_timestamp        104858 non-null  datetime64[ns]\n",
      " 20  seller_id                      104900 non-null  object        \n",
      " 21  product_id                     104900 non-null  object        \n",
      " 22  price                          104900 non-null  float64       \n",
      " 23  freight_value                  104900 non-null  float64       \n",
      " 24  qty                            104900 non-null  float64       \n",
      " 25  product_category_name          105697 non-null  object        \n",
      " 26  product_weight_g               104883 non-null  float64       \n",
      " 27  seller_city                    105697 non-null  object        \n",
      " 28  seller_state                   105697 non-null  object        \n",
      "dtypes: datetime64[ns](5), float64(7), int64(1), object(16)\n",
      "memory usage: 24.2+ MB\n"
     ]
    }
   ],
   "source": [
    "customer_set['order_approved_at'] = pd.to_datetime(customer_set['order_approved_at'])\n",
    "customer_set['order_delivered_carrier_date'] = pd.to_datetime(customer_set['order_delivered_carrier_date'])\n",
    "customer_set['order_delivered_customer_date'] = pd.to_datetime(customer_set['order_delivered_customer_date'])\n",
    "customer_set['review_creation_date'] = pd.to_datetime(customer_set['review_creation_date'])\n",
    "customer_set['review_answer_timestamp'] = pd.to_datetime(customer_set['review_answer_timestamp'])\n",
    "\n",
    "#Convert succes\n",
    "customer_set.info()"
   ]
  },
  {
   "cell_type": "code",
   "execution_count": 9,
   "id": "026db8f6",
   "metadata": {
    "execution": {
     "iopub.execute_input": "2022-10-02T14:56:48.249915Z",
     "iopub.status.busy": "2022-10-02T14:56:48.249515Z",
     "iopub.status.idle": "2022-10-02T14:56:48.362817Z",
     "shell.execute_reply": "2022-10-02T14:56:48.361359Z"
    },
    "papermill": {
     "duration": 0.125032,
     "end_time": "2022-10-02T14:56:48.365517",
     "exception": false,
     "start_time": "2022-10-02T14:56:48.240485",
     "status": "completed"
    },
    "tags": []
   },
   "outputs": [
    {
     "data": {
      "text/plain": [
       "customer_id                         0\n",
       "customer_unique_id                  0\n",
       "customer_zip_code_prefix            0\n",
       "customer_city                       0\n",
       "customer_state                      0\n",
       "order_id                            0\n",
       "order_status                        0\n",
       "order_purchase_timestamp            0\n",
       "order_approved_at                 162\n",
       "order_delivered_carrier_date     1851\n",
       "order_delivered_customer_date    3073\n",
       "order_estimated_delivery_date       0\n",
       "payment_type                        0\n",
       "payment_installments                0\n",
       "frequency                           1\n",
       "payment_value                       1\n",
       "review_id                         839\n",
       "review_score                        0\n",
       "review_creation_date              839\n",
       "review_answer_timestamp           839\n",
       "seller_id                         797\n",
       "product_id                        797\n",
       "price                             797\n",
       "freight_value                     797\n",
       "qty                               797\n",
       "product_category_name               0\n",
       "product_weight_g                  814\n",
       "seller_city                         0\n",
       "seller_state                        0\n",
       "dtype: int64"
      ]
     },
     "execution_count": 9,
     "metadata": {},
     "output_type": "execute_result"
    }
   ],
   "source": [
    "customer_set.isna().sum()"
   ]
  },
  {
   "cell_type": "markdown",
   "id": "0a4b660b",
   "metadata": {
    "papermill": {
     "duration": 0.00748,
     "end_time": "2022-10-02T14:56:48.381204",
     "exception": false,
     "start_time": "2022-10-02T14:56:48.373724",
     "status": "completed"
    },
    "tags": []
   },
   "source": [
    "*As you can see on above, these numerical columns have missing value like columns: order_approved_at, order_delivered_carrier_date, order_delivered_customer_date, review_creation_date, review_answer_timestamp,frequency, payment_value, price, freight_value, qty, product_weight_g. So I begin to filling it on below:*"
   ]
  },
  {
   "cell_type": "code",
   "execution_count": 10,
   "id": "eebe02e2",
   "metadata": {
    "execution": {
     "iopub.execute_input": "2022-10-02T14:56:48.399113Z",
     "iopub.status.busy": "2022-10-02T14:56:48.398726Z",
     "iopub.status.idle": "2022-10-02T14:56:48.639152Z",
     "shell.execute_reply": "2022-10-02T14:56:48.637665Z"
    },
    "papermill": {
     "duration": 0.252861,
     "end_time": "2022-10-02T14:56:48.641937",
     "exception": false,
     "start_time": "2022-10-02T14:56:48.389076",
     "status": "completed"
    },
    "tags": []
   },
   "outputs": [
    {
     "data": {
      "text/plain": [
       "customer_id                        0\n",
       "customer_unique_id                 0\n",
       "customer_zip_code_prefix           0\n",
       "customer_city                      0\n",
       "customer_state                     0\n",
       "order_id                           0\n",
       "order_status                       0\n",
       "order_purchase_timestamp           0\n",
       "order_approved_at                  0\n",
       "order_delivered_carrier_date       0\n",
       "order_delivered_customer_date      0\n",
       "order_estimated_delivery_date      0\n",
       "payment_type                       0\n",
       "payment_installments               0\n",
       "frequency                          0\n",
       "payment_value                      0\n",
       "review_id                        839\n",
       "review_score                       0\n",
       "review_creation_date               0\n",
       "review_answer_timestamp            0\n",
       "seller_id                        797\n",
       "product_id                       797\n",
       "price                              0\n",
       "freight_value                      0\n",
       "qty                                0\n",
       "product_category_name              0\n",
       "product_weight_g                   0\n",
       "seller_city                        0\n",
       "seller_state                       0\n",
       "dtype: int64"
      ]
     },
     "execution_count": 10,
     "metadata": {},
     "output_type": "execute_result"
    }
   ],
   "source": [
    "#order_approved_at column\n",
    "customer_set.agg({'order_approved_at':'median'})\n",
    "customer_set['order_approved_at'].fillna('2018-01-18 13:34:44', inplace = True)\n",
    "\n",
    "#order_delivered_carrier_date column\n",
    "customer_set.agg({'order_delivered_carrier_date':'median'})\n",
    "customer_set['order_delivered_carrier_date'].fillna('2018-01-23 21:49:11', inplace = True)\n",
    "\n",
    "#order_delivered_customer_date column\n",
    "customer_set.agg({'order_delivered_customer_date':'median'})\n",
    "customer_set['order_delivered_customer_date'].fillna('2018-02-01 21:48:22', inplace = True)\n",
    "\n",
    "#review_creation_date column\n",
    "customer_set.agg({'review_creation_date':'median'})\n",
    "customer_set['review_creation_date'].fillna('2018-02-01', inplace = True)\n",
    "\n",
    "#review_answer_timestamp column\n",
    "customer_set.agg({'review_answer_timestamp':'median'})\n",
    "customer_set['review_answer_timestamp'].fillna('2018-02-04 04:52:34', inplace = True)\n",
    "\n",
    "#frequency column\n",
    "customer_set.agg({'frequency':'median'})\n",
    "customer_set['frequency'].fillna('1', inplace = True)\n",
    "\n",
    "#payment_value column\n",
    "customer_set.agg({'payment_value':'median'})\n",
    "customer_set['payment_value'].fillna('104.765', inplace = True)\n",
    "\n",
    "#price column\n",
    "customer_set.agg({'price':'median'})\n",
    "customer_set['price'].fillna('78.575', inplace = True)\n",
    "\n",
    "#freight_value column\n",
    "customer_set.agg({'freight_value':'median'})\n",
    "customer_set['freight_value'].fillna('16.34', inplace = True)\n",
    "\n",
    "#qty column\n",
    "customer_set.agg({'qty':'median'})\n",
    "customer_set['qty'].fillna('1', inplace = True)\n",
    "\n",
    "#product_weight_g column\n",
    "customer_set.agg({'product_weight_g':'median'})\n",
    "customer_set['product_weight_g'].fillna('663', inplace = True)\n",
    "\n",
    "#Imputation end\n",
    "customer_set.isna().sum()"
   ]
  },
  {
   "cell_type": "code",
   "execution_count": 11,
   "id": "0f3ba64a",
   "metadata": {
    "execution": {
     "iopub.execute_input": "2022-10-02T14:56:48.659775Z",
     "iopub.status.busy": "2022-10-02T14:56:48.659330Z",
     "iopub.status.idle": "2022-10-02T14:56:48.666762Z",
     "shell.execute_reply": "2022-10-02T14:56:48.665624Z"
    },
    "papermill": {
     "duration": 0.019192,
     "end_time": "2022-10-02T14:56:48.669151",
     "exception": false,
     "start_time": "2022-10-02T14:56:48.649959",
     "status": "completed"
    },
    "tags": []
   },
   "outputs": [
    {
     "data": {
      "text/plain": [
       "Index(['customer_id', 'customer_unique_id', 'customer_zip_code_prefix',\n",
       "       'customer_city', 'customer_state', 'order_id', 'order_status',\n",
       "       'order_purchase_timestamp', 'order_approved_at',\n",
       "       'order_delivered_carrier_date', 'order_delivered_customer_date',\n",
       "       'order_estimated_delivery_date', 'payment_type', 'payment_installments',\n",
       "       'frequency', 'payment_value', 'review_id', 'review_score',\n",
       "       'review_creation_date', 'review_answer_timestamp', 'seller_id',\n",
       "       'product_id', 'price', 'freight_value', 'qty', 'product_category_name',\n",
       "       'product_weight_g', 'seller_city', 'seller_state'],\n",
       "      dtype='object')"
      ]
     },
     "execution_count": 11,
     "metadata": {},
     "output_type": "execute_result"
    }
   ],
   "source": [
    "customer_set.columns"
   ]
  },
  {
   "cell_type": "markdown",
   "id": "a28e237d",
   "metadata": {
    "papermill": {
     "duration": 0.00783,
     "end_time": "2022-10-02T14:56:48.685117",
     "exception": false,
     "start_time": "2022-10-02T14:56:48.677287",
     "status": "completed"
    },
    "tags": []
   },
   "source": [
    "# Exploratory Data Analysis"
   ]
  },
  {
   "cell_type": "code",
   "execution_count": 12,
   "id": "35156da9",
   "metadata": {
    "execution": {
     "iopub.execute_input": "2022-10-02T14:56:48.703838Z",
     "iopub.status.busy": "2022-10-02T14:56:48.703083Z",
     "iopub.status.idle": "2022-10-02T14:56:48.708116Z",
     "shell.execute_reply": "2022-10-02T14:56:48.707305Z"
    },
    "papermill": {
     "duration": 0.016819,
     "end_time": "2022-10-02T14:56:48.710311",
     "exception": false,
     "start_time": "2022-10-02T14:56:48.693492",
     "status": "completed"
    },
    "tags": []
   },
   "outputs": [],
   "source": [
    "pd.set_option('display.max_columns', None)"
   ]
  },
  {
   "cell_type": "code",
   "execution_count": 13,
   "id": "32c9bf12",
   "metadata": {
    "execution": {
     "iopub.execute_input": "2022-10-02T14:56:48.728694Z",
     "iopub.status.busy": "2022-10-02T14:56:48.728259Z",
     "iopub.status.idle": "2022-10-02T14:56:49.164365Z",
     "shell.execute_reply": "2022-10-02T14:56:49.163082Z"
    },
    "papermill": {
     "duration": 0.448337,
     "end_time": "2022-10-02T14:56:49.166761",
     "exception": false,
     "start_time": "2022-10-02T14:56:48.718424",
     "status": "completed"
    },
    "tags": []
   },
   "outputs": [
    {
     "data": {
      "image/png": "[encoded data removed]",
      "text/plain": [
       "<Figure size 432x288 with 1 Axes>"
      ]
     },
     "metadata": {
      "needs_background": "light"
     },
     "output_type": "display_data"
    }
   ],
   "source": [
    "customer_reg = customer_set.loc[:, ['customer_unique_id', 'customer_city', 'customer_state']]\n",
    "customer_reg.drop_duplicates('customer_unique_id', keep = 'first', inplace = True)\n",
    "\n",
    "cust_bar = customer_reg.groupby(['customer_state'], as_index = False).agg({'customer_unique_id':'count'}).sort_values('customer_unique_id' ,ascending = False).head(5)\n",
    "cust_bar.rename(columns = {'customer_unique_id':'num_of_customer'}, inplace = True)\n",
    "cust_bar.replace({'SP':'São Paulo', 'RJ':'Rio de Janeiro', 'MG':'Minas Gerais', 'RS':'Rio Grande do Sul', 'PR':'Paraná'}, inplace = True)\n",
    "\n",
    "#Visualize\n",
    "cust_bar.sort_values('num_of_customer', ascending = True, ignore_index = True).plot(kind = 'barh', x = 'customer_state', y = 'num_of_customer', legend = None)\n",
    "plt.xlabel('total_of_customer')\n",
    "plt.title('Top 5 of Customer States')\n",
    "\n",
    "num_iterates = cust_bar.loc[:, 'num_of_customer'].sort_values(ascending = True)\n",
    "k = []\n",
    "\n",
    "for index, value in num_iterates.items():\n",
    "    k.append(value)\n",
    "for index, value in enumerate(k):\n",
    "    plt.text(value, index, str(value))\n",
    "\n",
    "plt.show()"
   ]
  },
  {
   "cell_type": "markdown",
   "id": "ad52c0b6",
   "metadata": {
    "papermill": {
     "duration": 0.008524,
     "end_time": "2022-10-02T14:56:49.184347",
     "exception": false,
     "start_time": "2022-10-02T14:56:49.175823",
     "status": "completed"
    },
    "tags": []
   },
   "source": [
    "Based on the visualize, São Paulo leading on customer state with total 40295 users, follow by Rio de Janeiro and so on, São Paulo is the capital of the state of São Paulo, the most populous and wealthiest Brazilian state, located in the country's Southeast Region."
   ]
  },
  {
   "cell_type": "code",
   "execution_count": 14,
   "id": "de3f2e76",
   "metadata": {
    "execution": {
     "iopub.execute_input": "2022-10-02T14:56:49.204005Z",
     "iopub.status.busy": "2022-10-02T14:56:49.203526Z",
     "iopub.status.idle": "2022-10-02T14:56:49.403528Z",
     "shell.execute_reply": "2022-10-02T14:56:49.401788Z"
    },
    "papermill": {
     "duration": 0.214841,
     "end_time": "2022-10-02T14:56:49.408078",
     "exception": false,
     "start_time": "2022-10-02T14:56:49.193237",
     "status": "completed"
    },
    "tags": []
   },
   "outputs": [
    {
     "data": {
      "image/png": "[encoded data removed]",
      "text/plain": [
       "<Figure size 432x288 with 1 Axes>"
      ]
     },
     "metadata": {},
     "output_type": "display_data"
    }
   ],
   "source": [
    "customer_pay = customer_set.loc[:, ['order_id', 'product_id','payment_type', 'frequency', 'payment_installments']]\n",
    "customer_pay['frequency'] = customer_pay['frequency'].astype(int)\n",
    "\n",
    "cus_pay_pie = customer_pay.groupby(['payment_type'], as_index = False).agg({'frequency':np.sum}).sort_values('frequency', ascending = False)\n",
    "cus_pay_pie = customer_pay.groupby(['payment_type'], as_index = False)['frequency'].sum()\n",
    "cus_pay_pie.sort_values(['frequency'], ascending = False, inplace = True, ignore_index = True)\n",
    "\n",
    "#Visualize\n",
    "plt.pie(cus_pay_pie['frequency'], labels = cus_pay_pie['payment_type'], autopct = '%.2f%%')\n",
    "plt.title('Favorite Metode Payment')\n",
    "plt.show()"
   ]
  },
  {
   "cell_type": "markdown",
   "id": "fcdfecd4",
   "metadata": {
    "papermill": {
     "duration": 0.022507,
     "end_time": "2022-10-02T14:56:49.453661",
     "exception": false,
     "start_time": "2022-10-02T14:56:49.431154",
     "status": "completed"
    },
    "tags": []
   },
   "source": [
    "Based on the visualize, credict card most used in Brazil. In March 2021, around six out of ten (62 percent of) m-commerce users surveyed in Brazil said their favorite way to pay for purchases made through a smartphone was credit card. (Statista, 2021) "
   ]
  },
  {
   "cell_type": "code",
   "execution_count": 15,
   "id": "5f76b758",
   "metadata": {
    "execution": {
     "iopub.execute_input": "2022-10-02T14:56:49.479004Z",
     "iopub.status.busy": "2022-10-02T14:56:49.478242Z",
     "iopub.status.idle": "2022-10-02T14:56:49.749574Z",
     "shell.execute_reply": "2022-10-02T14:56:49.748672Z"
    },
    "papermill": {
     "duration": 0.284343,
     "end_time": "2022-10-02T14:56:49.752116",
     "exception": false,
     "start_time": "2022-10-02T14:56:49.467773",
     "status": "completed"
    },
    "tags": []
   },
   "outputs": [
    {
     "data": {
      "image/png": "[encoded data removed]",
      "text/plain": [
       "<Figure size 432x288 with 1 Axes>"
      ]
     },
     "metadata": {
      "needs_background": "light"
     },
     "output_type": "display_data"
    }
   ],
   "source": [
    "sales = customer_set.loc[:, ['order_id','product_category_name','price', 'order_status']]\n",
    "sales = sales[sales['order_status'] == 'delivered']\n",
    "\n",
    "top5_sales_category = sales.groupby('product_category_name', as_index = False).agg({'price':'sum'}).sort_values('price', ascending = False).head(5)\n",
    "top5_sales_category.rename(columns = {'price':'sales'}, inplace = True)\n",
    "top5_sales_category['sales'] = top5_sales_category['sales'].astype(int)\n",
    "top5_sales_category.replace({'beleza_saude':'health_beauty', 'relogios_presentes':'watches_gifts', 'cama_mesa_banho':'bed_bath_table', 'esporte_lazer':'sports_leisure', \n",
    "                             'informatica_acessorios':'computers_accessories'}, inplace = True)\n",
    "\n",
    "#Visualize\n",
    "top5_sales_category.sort_values('sales', ascending = True, ignore_index = True).plot(kind = 'barh', x = 'product_category_name', y = 'sales', legend = None)\n",
    "plt.xlabel('total_of_sales')\n",
    "plt.title('Top 5 of Category Sale')\n",
    "\n",
    "num_iterates = top5_sales_category.loc[:, 'sales'].sort_values(ascending = True)\n",
    "k = []\n",
    "\n",
    "for index, value in num_iterates.items():\n",
    "    k.append(value)\n",
    "for index, value in enumerate(k):\n",
    "    plt.text(value, index, str(value))\n",
    "\n",
    "plt.show()"
   ]
  },
  {
   "cell_type": "markdown",
   "id": "541b0cd5",
   "metadata": {
    "papermill": {
     "duration": 0.009104,
     "end_time": "2022-10-02T14:56:49.771248",
     "exception": false,
     "start_time": "2022-10-02T14:56:49.762144",
     "status": "completed"
    },
    "tags": []
   },
   "source": [
    "Based on the visualize, health_beauty category leading with total 1,208,985 sales, followed by watches_gifts and so on. In 2021, women made almost six out of ten online purchases in Brazil. The share of e-commerce checkouts fulfilled by women has been increasing since 2019, when it stood at 52 percent. (Statista, 2022)"
   ]
  },
  {
   "cell_type": "code",
   "execution_count": 16,
   "id": "4e3ae447",
   "metadata": {
    "execution": {
     "iopub.execute_input": "2022-10-02T14:56:49.792297Z",
     "iopub.status.busy": "2022-10-02T14:56:49.791542Z",
     "iopub.status.idle": "2022-10-02T14:56:50.342273Z",
     "shell.execute_reply": "2022-10-02T14:56:50.341361Z"
    },
    "papermill": {
     "duration": 0.564229,
     "end_time": "2022-10-02T14:56:50.344894",
     "exception": false,
     "start_time": "2022-10-02T14:56:49.780665",
     "status": "completed"
    },
    "tags": []
   },
   "outputs": [
    {
     "data": {
      "image/png": "[encoded data removed]",
      "text/plain": [
       "<Figure size 432x288 with 1 Axes>"
      ]
     },
     "metadata": {
      "needs_background": "light"
     },
     "output_type": "display_data"
    }
   ],
   "source": [
    "orders_time = customer_set.loc[:, ['order_id','order_status', 'order_approved_at']]\n",
    "orders_time['order_status'].unique()\n",
    "orders_time = orders_time[orders_time['order_status'].isin(['delivered', 'invoiced', 'shipped', 'processing', 'approved', 'created'])]\n",
    "orders_time.drop_duplicates('order_id', keep = 'first', inplace = True)\n",
    "\n",
    "orders_time['month_purchase'] = pd.to_datetime(orders_time['order_approved_at']).dt.month\n",
    "orders_time['month_purchase'] = orders_time['month_purchase'].astype(str)\n",
    "orders_time['month_purchase'].replace({'1':'Jan', '2':'Feb', '3':'Mar', '4':'Apr', '5':'May', '6':'Jun', '7':'Jul', '8':'Aug', '9':'Sep', '10':'Oct', '11':'Nov', '12':'Dec'}, inplace = True)\n",
    "\n",
    "month_order1 = orders_time.groupby('month_purchase', as_index = False).agg({'order_id':'count'})\n",
    "\n",
    "#I can not sort ascending based on month_purchase in month_order table so I create new dataframe and I can ascending based on month_purchase\n",
    "\n",
    "month_purchase_dict = {'index':[1,2,3,4,5,6,7,8,9,10,11,12],\n",
    "              'month_purchase':['Jan', 'Feb', 'Mar', 'Apr', 'May', 'June', 'July', 'Aug', 'Sept', 'Oct', 'Nov', 'Dec'],\n",
    "              'num_of_order':[7877, 8307, 9875, 9110, 9875, 9356, 10024, 10871, 4250, 4806, 7280, 5783]}\n",
    "\n",
    "month_order2 = pd.DataFrame(month_purchase_dict)\n",
    "month_order2.plot('month_purchase', 'num_of_order', legend = None)\n",
    "\n",
    "plt.title('Total Order per Months')\n",
    "plt.xlabel('month')\n",
    "plt.ylabel('total_order')\n",
    "plt.show()"
   ]
  },
  {
   "cell_type": "markdown",
   "id": "a117447c",
   "metadata": {
    "papermill": {
     "duration": 0.00939,
     "end_time": "2022-10-02T14:56:50.364203",
     "exception": false,
     "start_time": "2022-10-02T14:56:50.354813",
     "status": "completed"
    },
    "tags": []
   },
   "source": [
    "Based on the visualize, on July until Augst their have most of high peak but in Sept number of order suddenly fall down."
   ]
  },
  {
   "cell_type": "markdown",
   "id": "f3617513",
   "metadata": {
    "papermill": {
     "duration": 0.009252,
     "end_time": "2022-10-02T14:56:50.383200",
     "exception": false,
     "start_time": "2022-10-02T14:56:50.373948",
     "status": "completed"
    },
    "tags": []
   },
   "source": [
    "# End - Thank for Your Attention"
   ]
  }
 ],
 "metadata": {
  "kernelspec": {
   "display_name": "Python 3",
   "language": "python",
   "name": "python3"
  },
  "language_info": {
   "codemirror_mode": {
    "name": "ipython",
    "version": 3
   },
   "file_extension": ".py",
   "mimetype": "text/x-python",
   "name": "python",
   "nbconvert_exporter": "python",
   "pygments_lexer": "ipython3",
   "version": "3.7.12"
  },
  "papermill": {
   "default_parameters": {},
   "duration": 20.805957,
   "end_time": "2022-10-02T14:56:51.215094",
   "environment_variables": {},
   "exception": null,
   "input_path": "__notebook__.ipynb",
   "output_path": "__notebook__.ipynb",
   "parameters": {},
   "start_time": "2022-10-02T14:56:30.409137",
   "version": "2.3.4"
  }
 },
 "nbformat": 4,
 "nbformat_minor": 5
}
